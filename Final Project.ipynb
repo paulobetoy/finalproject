{
 "cells": [
  {
   "cell_type": "code",
   "execution_count": 25,
   "metadata": {},
   "outputs": [],
   "source": [
    "%matplotlib inline\n",
    "import matplotlib.pyplot as plt\n",
    "import numpy as np\n",
    "import pandas as pd"
   ]
  },
  {
   "cell_type": "code",
   "execution_count": 26,
   "metadata": {},
   "outputs": [],
   "source": [
    "# Name of the CSV file\n",
    "file = 'Global.csv'"
   ]
  },
  {
   "cell_type": "code",
   "execution_count": 27,
   "metadata": {},
   "outputs": [],
   "source": [
    "df = pd.read_csv(file, encoding=\"ISO-8859-1\")"
   ]
  },
  {
   "cell_type": "code",
   "execution_count": 28,
   "metadata": {},
   "outputs": [
    {
     "output_type": "execute_result",
     "data": {
      "text/plain": "            Date  AverageTemperature  AverageTemperatureUncertainty  \\\n0       9/1/2013              15.252                          1.056   \n1       9/1/2013              25.791                          1.180   \n2       9/1/2013              28.510                          1.204   \n3       9/1/2013              21.280                          1.142   \n4       9/1/2013              17.799                          1.093   \n...          ...                 ...                            ...   \n546989  1/1/1900               3.127                          0.604   \n546990  1/1/1900              24.573                          0.861   \n546991  1/1/1900              24.310                          1.250   \n546992  1/1/1900               2.079                          0.545   \n546993  1/1/1900              26.205                          1.070   \n\n                  City                             Country Latitude Longitude  \n0           Abbotsford                              Canada   49.03N   122.45W  \n1              Abilene                       United States   32.95N   100.53W  \n2             Acapulco                              Mexico   16.87N   100.47W  \n3       Aguascalientes                              Mexico   21.70N   102.98W  \n4                Akron                       United States   40.99N    80.95W  \n...                ...                                 ...      ...       ...  \n546989          Bolton                      United Kingdom   53.84N     1.36W  \n546990            Boma  Congo (Democratic Republic Of The)    5.63S    12.91E  \n546991          Bombay                               India   18.48N    72.68E  \n546992            Bonn                             Germany   50.63N     6.34E  \n546993         Bontang                           Indonesia    0.80N   118.13E  \n\n[546994 rows x 7 columns]",
      "text/html": "<div>\n<style scoped>\n    .dataframe tbody tr th:only-of-type {\n        vertical-align: middle;\n    }\n\n    .dataframe tbody tr th {\n        vertical-align: top;\n    }\n\n    .dataframe thead th {\n        text-align: right;\n    }\n</style>\n<table border=\"1\" class=\"dataframe\">\n  <thead>\n    <tr style=\"text-align: right;\">\n      <th></th>\n      <th>Date</th>\n      <th>AverageTemperature</th>\n      <th>AverageTemperatureUncertainty</th>\n      <th>City</th>\n      <th>Country</th>\n      <th>Latitude</th>\n      <th>Longitude</th>\n    </tr>\n  </thead>\n  <tbody>\n    <tr>\n      <td>0</td>\n      <td>9/1/2013</td>\n      <td>15.252</td>\n      <td>1.056</td>\n      <td>Abbotsford</td>\n      <td>Canada</td>\n      <td>49.03N</td>\n      <td>122.45W</td>\n    </tr>\n    <tr>\n      <td>1</td>\n      <td>9/1/2013</td>\n      <td>25.791</td>\n      <td>1.180</td>\n      <td>Abilene</td>\n      <td>United States</td>\n      <td>32.95N</td>\n      <td>100.53W</td>\n    </tr>\n    <tr>\n      <td>2</td>\n      <td>9/1/2013</td>\n      <td>28.510</td>\n      <td>1.204</td>\n      <td>Acapulco</td>\n      <td>Mexico</td>\n      <td>16.87N</td>\n      <td>100.47W</td>\n    </tr>\n    <tr>\n      <td>3</td>\n      <td>9/1/2013</td>\n      <td>21.280</td>\n      <td>1.142</td>\n      <td>Aguascalientes</td>\n      <td>Mexico</td>\n      <td>21.70N</td>\n      <td>102.98W</td>\n    </tr>\n    <tr>\n      <td>4</td>\n      <td>9/1/2013</td>\n      <td>17.799</td>\n      <td>1.093</td>\n      <td>Akron</td>\n      <td>United States</td>\n      <td>40.99N</td>\n      <td>80.95W</td>\n    </tr>\n    <tr>\n      <td>...</td>\n      <td>...</td>\n      <td>...</td>\n      <td>...</td>\n      <td>...</td>\n      <td>...</td>\n      <td>...</td>\n      <td>...</td>\n    </tr>\n    <tr>\n      <td>546989</td>\n      <td>1/1/1900</td>\n      <td>3.127</td>\n      <td>0.604</td>\n      <td>Bolton</td>\n      <td>United Kingdom</td>\n      <td>53.84N</td>\n      <td>1.36W</td>\n    </tr>\n    <tr>\n      <td>546990</td>\n      <td>1/1/1900</td>\n      <td>24.573</td>\n      <td>0.861</td>\n      <td>Boma</td>\n      <td>Congo (Democratic Republic Of The)</td>\n      <td>5.63S</td>\n      <td>12.91E</td>\n    </tr>\n    <tr>\n      <td>546991</td>\n      <td>1/1/1900</td>\n      <td>24.310</td>\n      <td>1.250</td>\n      <td>Bombay</td>\n      <td>India</td>\n      <td>18.48N</td>\n      <td>72.68E</td>\n    </tr>\n    <tr>\n      <td>546992</td>\n      <td>1/1/1900</td>\n      <td>2.079</td>\n      <td>0.545</td>\n      <td>Bonn</td>\n      <td>Germany</td>\n      <td>50.63N</td>\n      <td>6.34E</td>\n    </tr>\n    <tr>\n      <td>546993</td>\n      <td>1/1/1900</td>\n      <td>26.205</td>\n      <td>1.070</td>\n      <td>Bontang</td>\n      <td>Indonesia</td>\n      <td>0.80N</td>\n      <td>118.13E</td>\n    </tr>\n  </tbody>\n</table>\n<p>546994 rows × 7 columns</p>\n</div>"
     },
     "metadata": {},
     "execution_count": 28
    }
   ],
   "source": [
    "df"
   ]
  },
  {
   "cell_type": "code",
   "execution_count": 29,
   "metadata": {},
   "outputs": [
    {
     "output_type": "execute_result",
     "data": {
      "text/plain": "            Date  AverageTemperature  AverageTemperatureUncertainty  \\\n0       9/1/2013              15.252                          1.056   \n1       9/1/2013              25.791                          1.180   \n2       9/1/2013              28.510                          1.204   \n3       9/1/2013              21.280                          1.142   \n4       9/1/2013              17.799                          1.093   \n...          ...                 ...                            ...   \n546989  1/1/1900               3.127                          0.604   \n546990  1/1/1900              24.573                          0.861   \n546991  1/1/1900              24.310                          1.250   \n546992  1/1/1900               2.079                          0.545   \n546993  1/1/1900              26.205                          1.070   \n\n                  City                             Country Latitude Longitude  \\\n0           Abbotsford                              Canada    49.03    122.45   \n1              Abilene                       United States    32.95    100.53   \n2             Acapulco                              Mexico    16.87    100.47   \n3       Aguascalientes                              Mexico    21.70    102.98   \n4                Akron                       United States    40.99     80.95   \n...                ...                                 ...      ...       ...   \n546989          Bolton                      United Kingdom    53.84      1.36   \n546990            Boma  Congo (Democratic Republic Of The)     5.63     12.91   \n546991          Bombay                               India    18.48     72.68   \n546992            Bonn                             Germany    50.63      6.34   \n546993         Bontang                           Indonesia     0.80    118.13   \n\n       Dir_Lat Dir_Long  \n0            N        W  \n1            N        W  \n2            N        W  \n3            N        W  \n4            N        W  \n...        ...      ...  \n546989       N        W  \n546990       S        E  \n546991       N        E  \n546992       N        E  \n546993       N        E  \n\n[546994 rows x 9 columns]",
      "text/html": "<div>\n<style scoped>\n    .dataframe tbody tr th:only-of-type {\n        vertical-align: middle;\n    }\n\n    .dataframe tbody tr th {\n        vertical-align: top;\n    }\n\n    .dataframe thead th {\n        text-align: right;\n    }\n</style>\n<table border=\"1\" class=\"dataframe\">\n  <thead>\n    <tr style=\"text-align: right;\">\n      <th></th>\n      <th>Date</th>\n      <th>AverageTemperature</th>\n      <th>AverageTemperatureUncertainty</th>\n      <th>City</th>\n      <th>Country</th>\n      <th>Latitude</th>\n      <th>Longitude</th>\n      <th>Dir_Lat</th>\n      <th>Dir_Long</th>\n    </tr>\n  </thead>\n  <tbody>\n    <tr>\n      <td>0</td>\n      <td>9/1/2013</td>\n      <td>15.252</td>\n      <td>1.056</td>\n      <td>Abbotsford</td>\n      <td>Canada</td>\n      <td>49.03</td>\n      <td>122.45</td>\n      <td>N</td>\n      <td>W</td>\n    </tr>\n    <tr>\n      <td>1</td>\n      <td>9/1/2013</td>\n      <td>25.791</td>\n      <td>1.180</td>\n      <td>Abilene</td>\n      <td>United States</td>\n      <td>32.95</td>\n      <td>100.53</td>\n      <td>N</td>\n      <td>W</td>\n    </tr>\n    <tr>\n      <td>2</td>\n      <td>9/1/2013</td>\n      <td>28.510</td>\n      <td>1.204</td>\n      <td>Acapulco</td>\n      <td>Mexico</td>\n      <td>16.87</td>\n      <td>100.47</td>\n      <td>N</td>\n      <td>W</td>\n    </tr>\n    <tr>\n      <td>3</td>\n      <td>9/1/2013</td>\n      <td>21.280</td>\n      <td>1.142</td>\n      <td>Aguascalientes</td>\n      <td>Mexico</td>\n      <td>21.70</td>\n      <td>102.98</td>\n      <td>N</td>\n      <td>W</td>\n    </tr>\n    <tr>\n      <td>4</td>\n      <td>9/1/2013</td>\n      <td>17.799</td>\n      <td>1.093</td>\n      <td>Akron</td>\n      <td>United States</td>\n      <td>40.99</td>\n      <td>80.95</td>\n      <td>N</td>\n      <td>W</td>\n    </tr>\n    <tr>\n      <td>...</td>\n      <td>...</td>\n      <td>...</td>\n      <td>...</td>\n      <td>...</td>\n      <td>...</td>\n      <td>...</td>\n      <td>...</td>\n      <td>...</td>\n      <td>...</td>\n    </tr>\n    <tr>\n      <td>546989</td>\n      <td>1/1/1900</td>\n      <td>3.127</td>\n      <td>0.604</td>\n      <td>Bolton</td>\n      <td>United Kingdom</td>\n      <td>53.84</td>\n      <td>1.36</td>\n      <td>N</td>\n      <td>W</td>\n    </tr>\n    <tr>\n      <td>546990</td>\n      <td>1/1/1900</td>\n      <td>24.573</td>\n      <td>0.861</td>\n      <td>Boma</td>\n      <td>Congo (Democratic Republic Of The)</td>\n      <td>5.63</td>\n      <td>12.91</td>\n      <td>S</td>\n      <td>E</td>\n    </tr>\n    <tr>\n      <td>546991</td>\n      <td>1/1/1900</td>\n      <td>24.310</td>\n      <td>1.250</td>\n      <td>Bombay</td>\n      <td>India</td>\n      <td>18.48</td>\n      <td>72.68</td>\n      <td>N</td>\n      <td>E</td>\n    </tr>\n    <tr>\n      <td>546992</td>\n      <td>1/1/1900</td>\n      <td>2.079</td>\n      <td>0.545</td>\n      <td>Bonn</td>\n      <td>Germany</td>\n      <td>50.63</td>\n      <td>6.34</td>\n      <td>N</td>\n      <td>E</td>\n    </tr>\n    <tr>\n      <td>546993</td>\n      <td>1/1/1900</td>\n      <td>26.205</td>\n      <td>1.070</td>\n      <td>Bontang</td>\n      <td>Indonesia</td>\n      <td>0.80</td>\n      <td>118.13</td>\n      <td>N</td>\n      <td>E</td>\n    </tr>\n  </tbody>\n</table>\n<p>546994 rows × 9 columns</p>\n</div>"
     },
     "metadata": {},
     "execution_count": 29
    }
   ],
   "source": [
    "df[\"Dir_Lat\"] = df[\"Latitude\"].str[-1]\n",
    "df[\"Dir_Long\"] = df[\"Longitude\"].str[-1]\n",
    "Latitude=df[\"Latitude\"].copy()\n",
    "df[\"Latitude\"]=Latitude.str[:-1]\n",
    "Longitude=df[\"Longitude\"].copy()\n",
    "df[\"Longitude\"]=Longitude.str[:-1]\n",
    "df"
   ]
  },
  {
   "cell_type": "code",
   "execution_count": 30,
   "metadata": {},
   "outputs": [
    {
     "output_type": "execute_result",
     "data": {
      "text/plain": "            Date  AverageTemperature  AverageTemperatureUncertainty  \\\n0       9/1/2013              15.252                          1.056   \n1       9/1/2013              25.791                          1.180   \n2       9/1/2013              28.510                          1.204   \n3       9/1/2013              21.280                          1.142   \n4       9/1/2013              17.799                          1.093   \n...          ...                 ...                            ...   \n546989  1/1/1900               3.127                          0.604   \n546990  1/1/1900              24.573                          0.861   \n546991  1/1/1900              24.310                          1.250   \n546992  1/1/1900               2.079                          0.545   \n546993  1/1/1900              26.205                          1.070   \n\n                  City                             Country Latitude Longitude  \\\n0           Abbotsford                              Canada    49.03    122.45   \n1              Abilene                       United States    32.95    100.53   \n2             Acapulco                              Mexico    16.87    100.47   \n3       Aguascalientes                              Mexico    21.70    102.98   \n4                Akron                       United States    40.99     80.95   \n...                ...                                 ...      ...       ...   \n546989          Bolton                      United Kingdom    53.84      1.36   \n546990            Boma  Congo (Democratic Republic Of The)     5.63     12.91   \n546991          Bombay                               India    18.48     72.68   \n546992            Bonn                             Germany    50.63      6.34   \n546993         Bontang                           Indonesia     0.80    118.13   \n\n        Dir_Lat  Dir_Long  \n0             1         1  \n1             1         1  \n2             1         1  \n3             1         1  \n4             1         1  \n...         ...       ...  \n546989        1         1  \n546990        2         2  \n546991        1         2  \n546992        1         2  \n546993        1         2  \n\n[546994 rows x 9 columns]",
      "text/html": "<div>\n<style scoped>\n    .dataframe tbody tr th:only-of-type {\n        vertical-align: middle;\n    }\n\n    .dataframe tbody tr th {\n        vertical-align: top;\n    }\n\n    .dataframe thead th {\n        text-align: right;\n    }\n</style>\n<table border=\"1\" class=\"dataframe\">\n  <thead>\n    <tr style=\"text-align: right;\">\n      <th></th>\n      <th>Date</th>\n      <th>AverageTemperature</th>\n      <th>AverageTemperatureUncertainty</th>\n      <th>City</th>\n      <th>Country</th>\n      <th>Latitude</th>\n      <th>Longitude</th>\n      <th>Dir_Lat</th>\n      <th>Dir_Long</th>\n    </tr>\n  </thead>\n  <tbody>\n    <tr>\n      <td>0</td>\n      <td>9/1/2013</td>\n      <td>15.252</td>\n      <td>1.056</td>\n      <td>Abbotsford</td>\n      <td>Canada</td>\n      <td>49.03</td>\n      <td>122.45</td>\n      <td>1</td>\n      <td>1</td>\n    </tr>\n    <tr>\n      <td>1</td>\n      <td>9/1/2013</td>\n      <td>25.791</td>\n      <td>1.180</td>\n      <td>Abilene</td>\n      <td>United States</td>\n      <td>32.95</td>\n      <td>100.53</td>\n      <td>1</td>\n      <td>1</td>\n    </tr>\n    <tr>\n      <td>2</td>\n      <td>9/1/2013</td>\n      <td>28.510</td>\n      <td>1.204</td>\n      <td>Acapulco</td>\n      <td>Mexico</td>\n      <td>16.87</td>\n      <td>100.47</td>\n      <td>1</td>\n      <td>1</td>\n    </tr>\n    <tr>\n      <td>3</td>\n      <td>9/1/2013</td>\n      <td>21.280</td>\n      <td>1.142</td>\n      <td>Aguascalientes</td>\n      <td>Mexico</td>\n      <td>21.70</td>\n      <td>102.98</td>\n      <td>1</td>\n      <td>1</td>\n    </tr>\n    <tr>\n      <td>4</td>\n      <td>9/1/2013</td>\n      <td>17.799</td>\n      <td>1.093</td>\n      <td>Akron</td>\n      <td>United States</td>\n      <td>40.99</td>\n      <td>80.95</td>\n      <td>1</td>\n      <td>1</td>\n    </tr>\n    <tr>\n      <td>...</td>\n      <td>...</td>\n      <td>...</td>\n      <td>...</td>\n      <td>...</td>\n      <td>...</td>\n      <td>...</td>\n      <td>...</td>\n      <td>...</td>\n      <td>...</td>\n    </tr>\n    <tr>\n      <td>546989</td>\n      <td>1/1/1900</td>\n      <td>3.127</td>\n      <td>0.604</td>\n      <td>Bolton</td>\n      <td>United Kingdom</td>\n      <td>53.84</td>\n      <td>1.36</td>\n      <td>1</td>\n      <td>1</td>\n    </tr>\n    <tr>\n      <td>546990</td>\n      <td>1/1/1900</td>\n      <td>24.573</td>\n      <td>0.861</td>\n      <td>Boma</td>\n      <td>Congo (Democratic Republic Of The)</td>\n      <td>5.63</td>\n      <td>12.91</td>\n      <td>2</td>\n      <td>2</td>\n    </tr>\n    <tr>\n      <td>546991</td>\n      <td>1/1/1900</td>\n      <td>24.310</td>\n      <td>1.250</td>\n      <td>Bombay</td>\n      <td>India</td>\n      <td>18.48</td>\n      <td>72.68</td>\n      <td>1</td>\n      <td>2</td>\n    </tr>\n    <tr>\n      <td>546992</td>\n      <td>1/1/1900</td>\n      <td>2.079</td>\n      <td>0.545</td>\n      <td>Bonn</td>\n      <td>Germany</td>\n      <td>50.63</td>\n      <td>6.34</td>\n      <td>1</td>\n      <td>2</td>\n    </tr>\n    <tr>\n      <td>546993</td>\n      <td>1/1/1900</td>\n      <td>26.205</td>\n      <td>1.070</td>\n      <td>Bontang</td>\n      <td>Indonesia</td>\n      <td>0.80</td>\n      <td>118.13</td>\n      <td>1</td>\n      <td>2</td>\n    </tr>\n  </tbody>\n</table>\n<p>546994 rows × 9 columns</p>\n</div>"
     },
     "metadata": {},
     "execution_count": 30
    }
   ],
   "source": [
    "df.loc[(df.Dir_Lat == 'N'),'Dir_Lat']=1\n",
    "df.loc[(df.Dir_Lat == 'S'),'Dir_Lat']=2\n",
    "df.loc[(df.Dir_Long == 'W'),'Dir_Long']=1\n",
    "df.loc[(df.Dir_Long == 'E'),'Dir_Long']=2\n",
    "df"
   ]
  },
  {
   "cell_type": "code",
   "execution_count": 31,
   "metadata": {},
   "outputs": [
    {
     "output_type": "execute_result",
     "data": {
      "text/plain": "            Date  AverageTemperature Latitude Longitude  Dir_Lat  Dir_Long\n0       9/1/2013              15.252    49.03    122.45        1         1\n1       9/1/2013              25.791    32.95    100.53        1         1\n2       9/1/2013              28.510    16.87    100.47        1         1\n3       9/1/2013              21.280    21.70    102.98        1         1\n4       9/1/2013              17.799    40.99     80.95        1         1\n...          ...                 ...      ...       ...      ...       ...\n546989  1/1/1900               3.127    53.84      1.36        1         1\n546990  1/1/1900              24.573     5.63     12.91        2         2\n546991  1/1/1900              24.310    18.48     72.68        1         2\n546992  1/1/1900               2.079    50.63      6.34        1         2\n546993  1/1/1900              26.205     0.80    118.13        1         2\n\n[546994 rows x 6 columns]",
      "text/html": "<div>\n<style scoped>\n    .dataframe tbody tr th:only-of-type {\n        vertical-align: middle;\n    }\n\n    .dataframe tbody tr th {\n        vertical-align: top;\n    }\n\n    .dataframe thead th {\n        text-align: right;\n    }\n</style>\n<table border=\"1\" class=\"dataframe\">\n  <thead>\n    <tr style=\"text-align: right;\">\n      <th></th>\n      <th>Date</th>\n      <th>AverageTemperature</th>\n      <th>Latitude</th>\n      <th>Longitude</th>\n      <th>Dir_Lat</th>\n      <th>Dir_Long</th>\n    </tr>\n  </thead>\n  <tbody>\n    <tr>\n      <td>0</td>\n      <td>9/1/2013</td>\n      <td>15.252</td>\n      <td>49.03</td>\n      <td>122.45</td>\n      <td>1</td>\n      <td>1</td>\n    </tr>\n    <tr>\n      <td>1</td>\n      <td>9/1/2013</td>\n      <td>25.791</td>\n      <td>32.95</td>\n      <td>100.53</td>\n      <td>1</td>\n      <td>1</td>\n    </tr>\n    <tr>\n      <td>2</td>\n      <td>9/1/2013</td>\n      <td>28.510</td>\n      <td>16.87</td>\n      <td>100.47</td>\n      <td>1</td>\n      <td>1</td>\n    </tr>\n    <tr>\n      <td>3</td>\n      <td>9/1/2013</td>\n      <td>21.280</td>\n      <td>21.70</td>\n      <td>102.98</td>\n      <td>1</td>\n      <td>1</td>\n    </tr>\n    <tr>\n      <td>4</td>\n      <td>9/1/2013</td>\n      <td>17.799</td>\n      <td>40.99</td>\n      <td>80.95</td>\n      <td>1</td>\n      <td>1</td>\n    </tr>\n    <tr>\n      <td>...</td>\n      <td>...</td>\n      <td>...</td>\n      <td>...</td>\n      <td>...</td>\n      <td>...</td>\n      <td>...</td>\n    </tr>\n    <tr>\n      <td>546989</td>\n      <td>1/1/1900</td>\n      <td>3.127</td>\n      <td>53.84</td>\n      <td>1.36</td>\n      <td>1</td>\n      <td>1</td>\n    </tr>\n    <tr>\n      <td>546990</td>\n      <td>1/1/1900</td>\n      <td>24.573</td>\n      <td>5.63</td>\n      <td>12.91</td>\n      <td>2</td>\n      <td>2</td>\n    </tr>\n    <tr>\n      <td>546991</td>\n      <td>1/1/1900</td>\n      <td>24.310</td>\n      <td>18.48</td>\n      <td>72.68</td>\n      <td>1</td>\n      <td>2</td>\n    </tr>\n    <tr>\n      <td>546992</td>\n      <td>1/1/1900</td>\n      <td>2.079</td>\n      <td>50.63</td>\n      <td>6.34</td>\n      <td>1</td>\n      <td>2</td>\n    </tr>\n    <tr>\n      <td>546993</td>\n      <td>1/1/1900</td>\n      <td>26.205</td>\n      <td>0.80</td>\n      <td>118.13</td>\n      <td>1</td>\n      <td>2</td>\n    </tr>\n  </tbody>\n</table>\n<p>546994 rows × 6 columns</p>\n</div>"
     },
     "metadata": {},
     "execution_count": 31
    }
   ],
   "source": [
    "df=df[[\"Date\", \"AverageTemperature\",\"Latitude\",\"Longitude\",\"Dir_Lat\",\"Dir_Long\"]]\n",
    "df"
   ]
  },
  {
   "cell_type": "code",
   "execution_count": 32,
   "metadata": {},
   "outputs": [
    {
     "output_type": "execute_result",
     "data": {
      "text/plain": "        Year  Month  Day  AverageTemperature Latitude Longitude  Dir_Lat  \\\n0       2013      9    1              15.252    49.03    122.45        1   \n1       2013      9    1              25.791    32.95    100.53        1   \n2       2013      9    1              28.510    16.87    100.47        1   \n3       2013      9    1              21.280    21.70    102.98        1   \n4       2013      9    1              17.799    40.99     80.95        1   \n...      ...    ...  ...                 ...      ...       ...      ...   \n546989  1900      1    1               3.127    53.84      1.36        1   \n546990  1900      1    1              24.573     5.63     12.91        2   \n546991  1900      1    1              24.310    18.48     72.68        1   \n546992  1900      1    1               2.079    50.63      6.34        1   \n546993  1900      1    1              26.205     0.80    118.13        1   \n\n        Dir_Long  \n0              1  \n1              1  \n2              1  \n3              1  \n4              1  \n...          ...  \n546989         1  \n546990         2  \n546991         2  \n546992         2  \n546993         2  \n\n[546994 rows x 8 columns]",
      "text/html": "<div>\n<style scoped>\n    .dataframe tbody tr th:only-of-type {\n        vertical-align: middle;\n    }\n\n    .dataframe tbody tr th {\n        vertical-align: top;\n    }\n\n    .dataframe thead th {\n        text-align: right;\n    }\n</style>\n<table border=\"1\" class=\"dataframe\">\n  <thead>\n    <tr style=\"text-align: right;\">\n      <th></th>\n      <th>Year</th>\n      <th>Month</th>\n      <th>Day</th>\n      <th>AverageTemperature</th>\n      <th>Latitude</th>\n      <th>Longitude</th>\n      <th>Dir_Lat</th>\n      <th>Dir_Long</th>\n    </tr>\n  </thead>\n  <tbody>\n    <tr>\n      <td>0</td>\n      <td>2013</td>\n      <td>9</td>\n      <td>1</td>\n      <td>15.252</td>\n      <td>49.03</td>\n      <td>122.45</td>\n      <td>1</td>\n      <td>1</td>\n    </tr>\n    <tr>\n      <td>1</td>\n      <td>2013</td>\n      <td>9</td>\n      <td>1</td>\n      <td>25.791</td>\n      <td>32.95</td>\n      <td>100.53</td>\n      <td>1</td>\n      <td>1</td>\n    </tr>\n    <tr>\n      <td>2</td>\n      <td>2013</td>\n      <td>9</td>\n      <td>1</td>\n      <td>28.510</td>\n      <td>16.87</td>\n      <td>100.47</td>\n      <td>1</td>\n      <td>1</td>\n    </tr>\n    <tr>\n      <td>3</td>\n      <td>2013</td>\n      <td>9</td>\n      <td>1</td>\n      <td>21.280</td>\n      <td>21.70</td>\n      <td>102.98</td>\n      <td>1</td>\n      <td>1</td>\n    </tr>\n    <tr>\n      <td>4</td>\n      <td>2013</td>\n      <td>9</td>\n      <td>1</td>\n      <td>17.799</td>\n      <td>40.99</td>\n      <td>80.95</td>\n      <td>1</td>\n      <td>1</td>\n    </tr>\n    <tr>\n      <td>...</td>\n      <td>...</td>\n      <td>...</td>\n      <td>...</td>\n      <td>...</td>\n      <td>...</td>\n      <td>...</td>\n      <td>...</td>\n      <td>...</td>\n    </tr>\n    <tr>\n      <td>546989</td>\n      <td>1900</td>\n      <td>1</td>\n      <td>1</td>\n      <td>3.127</td>\n      <td>53.84</td>\n      <td>1.36</td>\n      <td>1</td>\n      <td>1</td>\n    </tr>\n    <tr>\n      <td>546990</td>\n      <td>1900</td>\n      <td>1</td>\n      <td>1</td>\n      <td>24.573</td>\n      <td>5.63</td>\n      <td>12.91</td>\n      <td>2</td>\n      <td>2</td>\n    </tr>\n    <tr>\n      <td>546991</td>\n      <td>1900</td>\n      <td>1</td>\n      <td>1</td>\n      <td>24.310</td>\n      <td>18.48</td>\n      <td>72.68</td>\n      <td>1</td>\n      <td>2</td>\n    </tr>\n    <tr>\n      <td>546992</td>\n      <td>1900</td>\n      <td>1</td>\n      <td>1</td>\n      <td>2.079</td>\n      <td>50.63</td>\n      <td>6.34</td>\n      <td>1</td>\n      <td>2</td>\n    </tr>\n    <tr>\n      <td>546993</td>\n      <td>1900</td>\n      <td>1</td>\n      <td>1</td>\n      <td>26.205</td>\n      <td>0.80</td>\n      <td>118.13</td>\n      <td>1</td>\n      <td>2</td>\n    </tr>\n  </tbody>\n</table>\n<p>546994 rows × 8 columns</p>\n</div>"
     },
     "metadata": {},
     "execution_count": 32
    }
   ],
   "source": [
    "df['Date'] = pd.to_datetime(df['Date'])\n",
    "df['Year'] = df['Date'].dt.year\n",
    "df['Month'] = df['Date'].dt.month\n",
    "df['Day'] = df['Date'].dt.day\n",
    "df=df[[\"Year\",\"Month\",\"Day\", \"AverageTemperature\",\"Latitude\",\"Longitude\",\"Dir_Lat\",\"Dir_Long\"]]\n",
    "df"
   ]
  },
  {
   "cell_type": "code",
   "execution_count": 33,
   "metadata": {},
   "outputs": [],
   "source": [
    "df.to_csv('Globaldata.csv')\n"
   ]
  },
  {
   "cell_type": "code",
   "execution_count": 34,
   "metadata": {
    "tags": []
   },
   "outputs": [
    {
     "output_type": "stream",
     "name": "stdout",
     "text": "AverageTemperature\n0                   15.252\n1                   25.791\n2                   28.510\n3                   21.280\n4                   17.799\n...                    ...\n546989               3.127\n546990              24.573\n546991              24.310\n546992               2.079\n546993              26.205\n\n[546994 rows x 1 columns]\n"
    }
   ],
   "source": [
    "X = df[[\"Year\", \"Month\", \"Day\",\"Latitude\",\"Longitude\",\"Dir_Lat\",\"Dir_Long\"]]\n",
    "y = df[[\"AverageTemperature\"]]\n",
    "print(y)\n"
   ]
  },
  {
   "cell_type": "code",
   "execution_count": 35,
   "metadata": {},
   "outputs": [],
   "source": [
    "from sklearn.datasets import make_regression\n",
    "from sklearn.model_selection import train_test_split\n"
   ]
  },
  {
   "cell_type": "code",
   "execution_count": 36,
   "metadata": {
    "tags": []
   },
   "outputs": [
    {
     "output_type": "stream",
     "name": "stdout",
     "text": "(410245, 7) (410245, 1) (136749, 7) (136749, 1)\n"
    }
   ],
   "source": [
    "X_train, X_test, y_train, y_test = train_test_split(X, y, random_state=20)\n",
    "print(X_train.shape,y_train.shape,X_test.shape,y_test.shape)\n"
   ]
  },
  {
   "cell_type": "code",
   "execution_count": 37,
   "metadata": {},
   "outputs": [
    {
     "output_type": "execute_result",
     "data": {
      "text/plain": "(546994, 1)"
     },
     "metadata": {},
     "execution_count": 37
    }
   ],
   "source": [
    "y.shape"
   ]
  },
  {
   "cell_type": "code",
   "execution_count": 39,
   "metadata": {
    "tags": []
   },
   "outputs": [
    {
     "output_type": "stream",
     "name": "stdout",
     "text": "RandomForestRegressor(bootstrap=True, criterion='mse', max_depth=15,\n                      max_features='auto', max_leaf_nodes=None,\n                      min_impurity_decrease=0.0, min_impurity_split=None,\n                      min_samples_leaf=1, min_samples_split=2,\n                      min_weight_fraction_leaf=0.0, n_estimators=10,\n                      n_jobs=None, oob_score=False, random_state=20, verbose=0,\n                      warm_start=False)\n"
    }
   ],
   "source": [
    "from sklearn.ensemble import RandomForestRegressor\n",
    "regr = RandomForestRegressor(max_depth=15, random_state=20)\n",
    "train=regr.fit(X_train, y_train)\n",
    "#regr.score(X_train, y_train)\n",
    "print(train)"
   ]
  },
  {
   "cell_type": "code",
   "execution_count": 40,
   "metadata": {
    "tags": []
   },
   "outputs": [
    {
     "output_type": "stream",
     "name": "stdout",
     "text": "27.322 [26.46314126]\n"
    }
   ],
   "source": [
    "res=train.predict([[1985, 11, 1, '12.05', '14.79', 1, 1]])\n",
    "print(y_test.loc[133940,:][0], res)"
   ]
  },
  {
   "cell_type": "code",
   "execution_count": 41,
   "metadata": {},
   "outputs": [
    {
     "output_type": "execute_result",
     "data": {
      "text/plain": "0.9855058767798195"
     },
     "metadata": {},
     "execution_count": 41
    }
   ],
   "source": [
    "train.score(X_test.values,y_test.values)"
   ]
  },
  {
   "cell_type": "code",
   "execution_count": 42,
   "metadata": {},
   "outputs": [
    {
     "output_type": "execute_result",
     "data": {
      "text/plain": "0.988663718871983"
     },
     "metadata": {},
     "execution_count": 42
    }
   ],
   "source": [
    "train.score(X_train.values,y_train.values)"
   ]
  },
  {
   "cell_type": "code",
   "execution_count": 44,
   "metadata": {},
   "outputs": [],
   "source": [
    "import pickle\n",
    "filename = 'Tempregression.sav'\n",
    "pickle.dump(train, open(filename, 'wb'))\n"
   ]
  },
  {
   "cell_type": "code",
   "execution_count": 45,
   "metadata": {
    "tags": []
   },
   "outputs": [
    {
     "output_type": "stream",
     "name": "stdout",
     "text": "0.9855058767798195\n"
    }
   ],
   "source": [
    "# load the model from disk\n",
    "loaded_model = pickle.load(open(filename, 'rb'))\n",
    "result = loaded_model.score(X_test, y_test)\n",
    "print(result)"
   ]
  },
  {
   "cell_type": "code",
   "execution_count": 47,
   "metadata": {
    "tags": []
   },
   "outputs": [
    {
     "output_type": "stream",
     "name": "stdout",
     "text": "27.322 [27.50178718]\n"
    }
   ],
   "source": [
    "loaded_model = pickle.load(open(filename, 'rb'))\n",
    "res=loaded_model.predict([[2030, 11, 1, '12.05', '14.79', 1, 1]])\n",
    "print(y_test.loc[133940,:][0], res)"
   ]
  }
 ],
 "metadata": {
  "kernelspec": {
   "display_name": "Python 3",
   "language": "python",
   "name": "python3"
  },
  "language_info": {
   "codemirror_mode": {
    "name": "ipython",
    "version": 3
   },
   "file_extension": ".py",
   "mimetype": "text/x-python",
   "name": "python",
   "nbconvert_exporter": "python",
   "pygments_lexer": "ipython3",
   "version": "3.7.4-final"
  }
 },
 "nbformat": 4,
 "nbformat_minor": 2
}